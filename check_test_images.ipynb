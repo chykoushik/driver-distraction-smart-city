{
  "nbformat": 4,
  "nbformat_minor": 0,
  "metadata": {
    "colab": {
      "provenance": [],
      "authorship_tag": "ABX9TyNcUJK3AUWNr6e/F8XB6psD",
      "include_colab_link": true
    },
    "kernelspec": {
      "name": "python3",
      "display_name": "Python 3"
    },
    "language_info": {
      "name": "python"
    }
  },
  "cells": [
    {
      "cell_type": "markdown",
      "metadata": {
        "id": "view-in-github",
        "colab_type": "text"
      },
      "source": [
        "<a href=\"https://colab.research.google.com/github/chykoushik/driver-distraction-smart-city/blob/main/check_test_images.ipynb\" target=\"_parent\"><img src=\"https://colab.research.google.com/assets/colab-badge.svg\" alt=\"Open In Colab\"/></a>"
      ]
    },
    {
      "cell_type": "code",
      "execution_count": null,
      "metadata": {
        "id": "iE5dbkgRmanD",
        "colab": {
          "base_uri": "https://localhost:8080/"
        },
        "outputId": "aa1dbcff-88d7-41e0-d02f-366dfe410f91"
      },
      "outputs": [
        {
          "output_type": "stream",
          "name": "stdout",
          "text": [
            "Mounted at /content/drive\n"
          ]
        }
      ],
      "source": [
        "from google.colab import drive\n",
        "drive.mount('/content/drive')"
      ]
    },
    {
      "cell_type": "code",
      "source": [
        "import os\n",
        "import pandas as pd\n",
        "\n",
        "# dataset path\n",
        "train_folder = '/content/drive/MyDrive/driver-distraction/state-farm-distracted-driver-detection/imgs/train'\n",
        "submission_file_path = '/content/drive/MyDrive/driver-distraction/submission_test.csv'\n",
        "\n",
        "# reading submission file\n",
        "submission_df = pd.read_csv(submission_file_path)\n",
        "\n",
        "# map image names to their class labels\n",
        "image_class_map = {}\n",
        "for class_folder in os.listdir(train_folder):\n",
        "    class_folder_path = os.path.join(train_folder, class_folder)\n",
        "    if os.path.isdir(class_folder_path):\n",
        "        for img_file in os.listdir(class_folder_path):\n",
        "            if img_file.endswith('.jpg'):\n",
        "                image_class_map[img_file] = class_folder\n",
        "\n",
        "# Count correctly classified images\n",
        "correctly_classified = 0\n",
        "total_images = len(submission_df)\n",
        "\n",
        "# check correctness\n",
        "for index, row in submission_df.iterrows():\n",
        "    img_name = row['img']\n",
        "    if img_name in image_class_map:\n",
        "        actual_class = image_class_map[img_name]\n",
        "        predicted_class = row[actual_class]\n",
        "        if predicted_class == 1:  # Check if predicted class is 1\n",
        "            correctly_classified += 1\n",
        "\n",
        "# accuracy\n",
        "accuracy = correctly_classified / total_images * 100\n",
        "\n",
        "# results\n",
        "print(f\"Total test images: {total_images}\")\n",
        "print(f\"Correctly classified images: {correctly_classified}\")\n",
        "print(f\"Test Accuracy: {accuracy:.2f}%\")\n"
      ],
      "metadata": {
        "colab": {
          "base_uri": "https://localhost:8080/"
        },
        "id": "0UyNZPtG_qmL",
        "outputId": "b21d7a77-2ddd-47d9-9194-4338a99b6e31"
      },
      "execution_count": null,
      "outputs": [
        {
          "output_type": "stream",
          "name": "stdout",
          "text": [
            "Total test images: 2150\n",
            "Correctly classified images: 2057\n",
            "Test Accuracy: 95.67%\n"
          ]
        }
      ]
    }
  ]
}